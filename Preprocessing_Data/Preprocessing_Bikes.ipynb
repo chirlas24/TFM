{
 "cells": [
  {
   "cell_type": "code",
   "execution_count": 1,
   "metadata": {},
   "outputs": [],
   "source": [
    "import pandas as pd"
   ]
  },
  {
   "cell_type": "code",
   "execution_count": 2,
   "metadata": {},
   "outputs": [],
   "source": [
    "df = pd.read_json(\"201901_Usage_Bicimad.json\", lines=True)"
   ]
  },
  {
   "cell_type": "code",
   "execution_count": 3,
   "metadata": {},
   "outputs": [
    {
     "data": {
      "text/html": [
       "<div>\n",
       "<style scoped>\n",
       "    .dataframe tbody tr th:only-of-type {\n",
       "        vertical-align: middle;\n",
       "    }\n",
       "\n",
       "    .dataframe tbody tr th {\n",
       "        vertical-align: top;\n",
       "    }\n",
       "\n",
       "    .dataframe thead th {\n",
       "        text-align: right;\n",
       "    }\n",
       "</style>\n",
       "<table border=\"1\" class=\"dataframe\">\n",
       "  <thead>\n",
       "    <tr style=\"text-align: right;\">\n",
       "      <th></th>\n",
       "      <th>_id</th>\n",
       "      <th>ageRange</th>\n",
       "      <th>idplug_base</th>\n",
       "      <th>idplug_station</th>\n",
       "      <th>idunplug_base</th>\n",
       "      <th>idunplug_station</th>\n",
       "      <th>track</th>\n",
       "      <th>travel_time</th>\n",
       "      <th>unplug_hourTime</th>\n",
       "      <th>user_day_code</th>\n",
       "      <th>user_type</th>\n",
       "      <th>zip_code</th>\n",
       "    </tr>\n",
       "  </thead>\n",
       "  <tbody>\n",
       "    <tr>\n",
       "      <th>0</th>\n",
       "      <td>{'$oid': '5c4b07ea2f38432e007daab8'}</td>\n",
       "      <td>0</td>\n",
       "      <td>14</td>\n",
       "      <td>83</td>\n",
       "      <td>23</td>\n",
       "      <td>82</td>\n",
       "      <td>{'type': 'FeatureCollection', 'features': [{'g...</td>\n",
       "      <td>162</td>\n",
       "      <td>{'$date': '2019-01-01T00:00:00.000+0100'}</td>\n",
       "      <td>b3b5b61509ab89afbf4d1e589d229bebe6637c2de819f5...</td>\n",
       "      <td>1</td>\n",
       "      <td></td>\n",
       "    </tr>\n",
       "    <tr>\n",
       "      <th>1</th>\n",
       "      <td>{'$oid': '5c4b07ea2f38432e007daaba'}</td>\n",
       "      <td>5</td>\n",
       "      <td>10</td>\n",
       "      <td>36</td>\n",
       "      <td>1</td>\n",
       "      <td>133</td>\n",
       "      <td>{'type': 'FeatureCollection', 'features': [{'g...</td>\n",
       "      <td>415</td>\n",
       "      <td>{'$date': '2019-01-01T00:00:00.000+0100'}</td>\n",
       "      <td>a18550d468153bb8e1808d4f0a85955579951832772996...</td>\n",
       "      <td>1</td>\n",
       "      <td>28005</td>\n",
       "    </tr>\n",
       "    <tr>\n",
       "      <th>2</th>\n",
       "      <td>{'$oid': '5c4b07ea2f38432e007daabb'}</td>\n",
       "      <td>0</td>\n",
       "      <td>5</td>\n",
       "      <td>90</td>\n",
       "      <td>3</td>\n",
       "      <td>25</td>\n",
       "      <td>{'type': 'FeatureCollection', 'features': [{'g...</td>\n",
       "      <td>545</td>\n",
       "      <td>{'$date': '2019-01-01T00:00:00.000+0100'}</td>\n",
       "      <td>905737396c2fe343c84d62eaee3ab66e19632638c5bea7...</td>\n",
       "      <td>1</td>\n",
       "      <td></td>\n",
       "    </tr>\n",
       "    <tr>\n",
       "      <th>3</th>\n",
       "      <td>{'$oid': '5c4b07ea2f38432e007daabd'}</td>\n",
       "      <td>3</td>\n",
       "      <td>18</td>\n",
       "      <td>155</td>\n",
       "      <td>6</td>\n",
       "      <td>105</td>\n",
       "      <td>{'type': 'FeatureCollection', 'features': [{'g...</td>\n",
       "      <td>417</td>\n",
       "      <td>{'$date': '2019-01-01T00:00:00.000+0100'}</td>\n",
       "      <td>5922b4a1a2591161ebf1ad66f42f52cc7796f3754c2c76...</td>\n",
       "      <td>1</td>\n",
       "      <td>28009</td>\n",
       "    </tr>\n",
       "    <tr>\n",
       "      <th>4</th>\n",
       "      <td>{'$oid': '5c4b07ea2f38432e007daabe'}</td>\n",
       "      <td>4</td>\n",
       "      <td>4</td>\n",
       "      <td>44</td>\n",
       "      <td>12</td>\n",
       "      <td>51</td>\n",
       "      <td>{'type': 'FeatureCollection', 'features': [{'g...</td>\n",
       "      <td>448</td>\n",
       "      <td>{'$date': '2019-01-01T00:00:00.000+0100'}</td>\n",
       "      <td>ed1c1a22c120e7d42cc522c33ab41db549791f3914b273...</td>\n",
       "      <td>1</td>\n",
       "      <td>28005</td>\n",
       "    </tr>\n",
       "  </tbody>\n",
       "</table>\n",
       "</div>"
      ],
      "text/plain": [
       "                                    _id  ageRange  idplug_base  \\\n",
       "0  {'$oid': '5c4b07ea2f38432e007daab8'}         0           14   \n",
       "1  {'$oid': '5c4b07ea2f38432e007daaba'}         5           10   \n",
       "2  {'$oid': '5c4b07ea2f38432e007daabb'}         0            5   \n",
       "3  {'$oid': '5c4b07ea2f38432e007daabd'}         3           18   \n",
       "4  {'$oid': '5c4b07ea2f38432e007daabe'}         4            4   \n",
       "\n",
       "   idplug_station  idunplug_base  idunplug_station  \\\n",
       "0              83             23                82   \n",
       "1              36              1               133   \n",
       "2              90              3                25   \n",
       "3             155              6               105   \n",
       "4              44             12                51   \n",
       "\n",
       "                                               track  travel_time  \\\n",
       "0  {'type': 'FeatureCollection', 'features': [{'g...          162   \n",
       "1  {'type': 'FeatureCollection', 'features': [{'g...          415   \n",
       "2  {'type': 'FeatureCollection', 'features': [{'g...          545   \n",
       "3  {'type': 'FeatureCollection', 'features': [{'g...          417   \n",
       "4  {'type': 'FeatureCollection', 'features': [{'g...          448   \n",
       "\n",
       "                             unplug_hourTime  \\\n",
       "0  {'$date': '2019-01-01T00:00:00.000+0100'}   \n",
       "1  {'$date': '2019-01-01T00:00:00.000+0100'}   \n",
       "2  {'$date': '2019-01-01T00:00:00.000+0100'}   \n",
       "3  {'$date': '2019-01-01T00:00:00.000+0100'}   \n",
       "4  {'$date': '2019-01-01T00:00:00.000+0100'}   \n",
       "\n",
       "                                       user_day_code  user_type zip_code  \n",
       "0  b3b5b61509ab89afbf4d1e589d229bebe6637c2de819f5...          1           \n",
       "1  a18550d468153bb8e1808d4f0a85955579951832772996...          1    28005  \n",
       "2  905737396c2fe343c84d62eaee3ab66e19632638c5bea7...          1           \n",
       "3  5922b4a1a2591161ebf1ad66f42f52cc7796f3754c2c76...          1    28009  \n",
       "4  ed1c1a22c120e7d42cc522c33ab41db549791f3914b273...          1    28005  "
      ]
     },
     "execution_count": 3,
     "metadata": {},
     "output_type": "execute_result"
    }
   ],
   "source": [
    "df.head(5)"
   ]
  },
  {
   "cell_type": "code",
   "execution_count": 3,
   "metadata": {},
   "outputs": [],
   "source": [
    "import preprocessing as p"
   ]
  },
  {
   "cell_type": "code",
   "execution_count": 5,
   "metadata": {},
   "outputs": [],
   "source": [
    "df = df[['idplug_station', 'idunplug_station', 'unplug_hourTime', 'travel_time']]"
   ]
  },
  {
   "cell_type": "code",
   "execution_count": 4,
   "metadata": {},
   "outputs": [],
   "source": [
    "df = df[['idplug_station', 'idunplug_station', 'unplug_hourTime', 'travel_time']]\n",
    "df = df[df['idplug_station'] <= 175]\n",
    "df = df[df['idunplug_station'] <= 175]"
   ]
  },
  {
   "cell_type": "code",
   "execution_count": 10,
   "metadata": {},
   "outputs": [],
   "source": [
    "from datetime import datetime"
   ]
  },
  {
   "cell_type": "code",
   "execution_count": 11,
   "metadata": {
    "scrolled": false
   },
   "outputs": [
    {
     "ename": "TypeError",
     "evalue": "Required argument 'year' (pos 1) not found",
     "output_type": "error",
     "traceback": [
      "\u001b[1;31m---------------------------------------------------------------------------\u001b[0m",
      "\u001b[1;31mTypeError\u001b[0m                                 Traceback (most recent call last)",
      "\u001b[1;32m<ipython-input-11-2ae8483b4d34>\u001b[0m in \u001b[0;36m<module>\u001b[1;34m()\u001b[0m\n\u001b[1;32m----> 1\u001b[1;33m \u001b[0mdf\u001b[0m\u001b[1;33m[\u001b[0m\u001b[1;34m'unplug_hourTime'\u001b[0m\u001b[1;33m]\u001b[0m \u001b[1;33m=\u001b[0m \u001b[0mdf\u001b[0m\u001b[1;33m[\u001b[0m\u001b[1;34m'unplug_hourTime'\u001b[0m\u001b[1;33m]\u001b[0m\u001b[1;33m.\u001b[0m\u001b[0mmap\u001b[0m\u001b[1;33m(\u001b[0m\u001b[0mp\u001b[0m\u001b[1;33m.\u001b[0m\u001b[0mdatetime\u001b[0m\u001b[1;33m(\u001b[0m\u001b[1;33m)\u001b[0m\u001b[1;33m)\u001b[0m\u001b[1;33m\u001b[0m\u001b[0m\n\u001b[0m",
      "\u001b[1;31mTypeError\u001b[0m: Required argument 'year' (pos 1) not found"
     ]
    }
   ],
   "source": [
    "df['unplug_hourTime'] = df['unplug_hourTime'].map(p.date_process())"
   ]
  },
  {
   "cell_type": "code",
   "execution_count": null,
   "metadata": {},
   "outputs": [],
   "source": []
  }
 ],
 "metadata": {
  "kernelspec": {
   "display_name": "Python 3",
   "language": "python",
   "name": "python3"
  },
  "language_info": {
   "codemirror_mode": {
    "name": "ipython",
    "version": 3
   },
   "file_extension": ".py",
   "mimetype": "text/x-python",
   "name": "python",
   "nbconvert_exporter": "python",
   "pygments_lexer": "ipython3",
   "version": "3.6.5"
  }
 },
 "nbformat": 4,
 "nbformat_minor": 2
}
