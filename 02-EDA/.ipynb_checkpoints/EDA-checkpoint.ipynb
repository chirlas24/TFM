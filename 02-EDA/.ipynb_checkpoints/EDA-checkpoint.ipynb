{
 "cells": [
  {
   "cell_type": "markdown",
   "metadata": {},
   "source": [
    "# Exploratory Data Analysis"
   ]
  },
  {
   "cell_type": "code",
   "execution_count": 1,
   "metadata": {},
   "outputs": [],
   "source": [
    "import os\n",
    "import pandas as pd"
   ]
  },
  {
   "cell_type": "code",
   "execution_count": 2,
   "metadata": {},
   "outputs": [
    {
     "data": {
      "text/plain": [
       "'/home/gonzalo/Repos/TFM/01-Preprocessing_Data'"
      ]
     },
     "execution_count": 2,
     "metadata": {},
     "output_type": "execute_result"
    }
   ],
   "source": [
    "#Get the preprocessig.py data path\n",
    "cwd = os.getcwd()\n",
    "cwd_list = cwd.split(os.sep)\n",
    "preprocessing_path = os.path.join(os.sep.join(cwd_list[:-1]), '01-Preprocessing_Data')\n",
    "preprocessing_path"
   ]
  },
  {
   "cell_type": "code",
   "execution_count": 3,
   "metadata": {},
   "outputs": [
    {
     "name": "stdout",
     "output_type": "stream",
     "text": [
      "/home/gonzalo/Repos/TFM/01-Preprocessing_Data\n",
      "/home/gonzalo/Repos/TFM/02-EDA\n"
     ]
    }
   ],
   "source": [
    "%cd $preprocessing_path\n",
    "import preprocessing as pre\n",
    "%cd $cwd"
   ]
  },
  {
   "cell_type": "code",
   "execution_count": 4,
   "metadata": {
    "scrolled": false
   },
   "outputs": [],
   "source": [
    "#Define data path\n",
    "data_path = '/home/gonzalo/Data/TFM/DATA/'"
   ]
  },
  {
   "cell_type": "code",
   "execution_count": 5,
   "metadata": {
    "scrolled": false
   },
   "outputs": [
    {
     "name": "stdout",
     "output_type": "stream",
     "text": [
      "0%[--10%------------------]100%\n",
      "=============================\n",
      "Bicimad_Estacions_201810.json added to DataSet\n",
      "=============================\n",
      "0%[----20%----------------]100%\n",
      "0%[------30%--------------]100%\n",
      "=============================\n",
      "Bicimad_Stations_201901.json added to DataSet\n",
      "=============================\n",
      "0%[--------40%------------]100%\n",
      "0%[----------50%----------]100%\n",
      "=============================\n",
      "Bicimad_Estacions_201808.json added to DataSet\n",
      "=============================\n",
      "0%[------------60%--------]100%\n",
      "=============================\n",
      "Bicimad_Stations_201812.json added to DataSet\n",
      "=============================\n",
      "0%[--------------70%------]100%\n",
      "0%[----------------80%----]100%\n",
      "=============================\n",
      "Bicimad_Estacions_201809.json added to DataSet\n",
      "=============================\n",
      "0%[------------------90%--]100%\n",
      "=============================\n",
      "Bicimad_Stations_201811.json added to DataSet\n",
      "=============================\n"
     ]
    }
   ],
   "source": [
    "df_activate = pre.make_all_dataset(data_path, 'activate')"
   ]
  },
  {
   "cell_type": "code",
   "execution_count": 6,
   "metadata": {},
   "outputs": [
    {
     "data": {
      "text/html": [
       "<div>\n",
       "<style scoped>\n",
       "    .dataframe tbody tr th:only-of-type {\n",
       "        vertical-align: middle;\n",
       "    }\n",
       "\n",
       "    .dataframe tbody tr th {\n",
       "        vertical-align: top;\n",
       "    }\n",
       "\n",
       "    .dataframe thead th {\n",
       "        text-align: right;\n",
       "    }\n",
       "</style>\n",
       "<table border=\"1\" class=\"dataframe\">\n",
       "  <thead>\n",
       "    <tr style=\"text-align: right;\">\n",
       "      <th></th>\n",
       "      <th>Date</th>\n",
       "      <th>1-1a_activate</th>\n",
       "      <th>2-1b_activate</th>\n",
       "      <th>3-2_activate</th>\n",
       "      <th>4-3_activate</th>\n",
       "      <th>5-4_activate</th>\n",
       "      <th>6-5_activate</th>\n",
       "      <th>7-6_activate</th>\n",
       "      <th>8-7_activate</th>\n",
       "      <th>9-8_activate</th>\n",
       "      <th>...</th>\n",
       "      <th>138-158_activate</th>\n",
       "      <th>173-159_activate</th>\n",
       "      <th>172-160_activate</th>\n",
       "      <th>132-161_activate</th>\n",
       "      <th>133-162_activate</th>\n",
       "      <th>134-163_activate</th>\n",
       "      <th>136-164_activate</th>\n",
       "      <th>135-165_activate</th>\n",
       "      <th>174-166_activate</th>\n",
       "      <th>175-167_activate</th>\n",
       "    </tr>\n",
       "  </thead>\n",
       "  <tbody>\n",
       "    <tr>\n",
       "      <th>294</th>\n",
       "      <td>2019-01-13 07:57:00</td>\n",
       "      <td>1</td>\n",
       "      <td>1</td>\n",
       "      <td>1</td>\n",
       "      <td>1</td>\n",
       "      <td>1</td>\n",
       "      <td>1</td>\n",
       "      <td>1</td>\n",
       "      <td>1</td>\n",
       "      <td>1</td>\n",
       "      <td>...</td>\n",
       "      <td>1</td>\n",
       "      <td>1</td>\n",
       "      <td>1</td>\n",
       "      <td>1</td>\n",
       "      <td>1</td>\n",
       "      <td>1</td>\n",
       "      <td>1</td>\n",
       "      <td>1</td>\n",
       "      <td>1</td>\n",
       "      <td>1</td>\n",
       "    </tr>\n",
       "    <tr>\n",
       "      <th>94</th>\n",
       "      <td>2019-01-04 22:53:00</td>\n",
       "      <td>1</td>\n",
       "      <td>1</td>\n",
       "      <td>1</td>\n",
       "      <td>1</td>\n",
       "      <td>1</td>\n",
       "      <td>1</td>\n",
       "      <td>1</td>\n",
       "      <td>1</td>\n",
       "      <td>1</td>\n",
       "      <td>...</td>\n",
       "      <td>1</td>\n",
       "      <td>1</td>\n",
       "      <td>1</td>\n",
       "      <td>1</td>\n",
       "      <td>1</td>\n",
       "      <td>1</td>\n",
       "      <td>1</td>\n",
       "      <td>1</td>\n",
       "      <td>1</td>\n",
       "      <td>1</td>\n",
       "    </tr>\n",
       "    <tr>\n",
       "      <th>501</th>\n",
       "      <td>2018-09-10 01:28:00</td>\n",
       "      <td>1</td>\n",
       "      <td>1</td>\n",
       "      <td>1</td>\n",
       "      <td>1</td>\n",
       "      <td>1</td>\n",
       "      <td>1</td>\n",
       "      <td>1</td>\n",
       "      <td>1</td>\n",
       "      <td>1</td>\n",
       "      <td>...</td>\n",
       "      <td>1</td>\n",
       "      <td>1</td>\n",
       "      <td>1</td>\n",
       "      <td>1</td>\n",
       "      <td>1</td>\n",
       "      <td>1</td>\n",
       "      <td>1</td>\n",
       "      <td>1</td>\n",
       "      <td>1</td>\n",
       "      <td>1</td>\n",
       "    </tr>\n",
       "    <tr>\n",
       "      <th>457</th>\n",
       "      <td>2019-01-20 03:02:00</td>\n",
       "      <td>1</td>\n",
       "      <td>1</td>\n",
       "      <td>1</td>\n",
       "      <td>1</td>\n",
       "      <td>1</td>\n",
       "      <td>1</td>\n",
       "      <td>1</td>\n",
       "      <td>1</td>\n",
       "      <td>1</td>\n",
       "      <td>...</td>\n",
       "      <td>1</td>\n",
       "      <td>1</td>\n",
       "      <td>1</td>\n",
       "      <td>1</td>\n",
       "      <td>1</td>\n",
       "      <td>1</td>\n",
       "      <td>1</td>\n",
       "      <td>1</td>\n",
       "      <td>1</td>\n",
       "      <td>1</td>\n",
       "    </tr>\n",
       "    <tr>\n",
       "      <th>228</th>\n",
       "      <td>2018-08-10 09:05:00</td>\n",
       "      <td>1</td>\n",
       "      <td>1</td>\n",
       "      <td>1</td>\n",
       "      <td>1</td>\n",
       "      <td>1</td>\n",
       "      <td>1</td>\n",
       "      <td>1</td>\n",
       "      <td>1</td>\n",
       "      <td>1</td>\n",
       "      <td>...</td>\n",
       "      <td>1</td>\n",
       "      <td>1</td>\n",
       "      <td>1</td>\n",
       "      <td>1</td>\n",
       "      <td>1</td>\n",
       "      <td>1</td>\n",
       "      <td>1</td>\n",
       "      <td>1</td>\n",
       "      <td>1</td>\n",
       "      <td>1</td>\n",
       "    </tr>\n",
       "  </tbody>\n",
       "</table>\n",
       "<p>5 rows × 173 columns</p>\n",
       "</div>"
      ],
      "text/plain": [
       "                   Date  1-1a_activate  2-1b_activate  3-2_activate  \\\n",
       "294 2019-01-13 07:57:00              1              1             1   \n",
       "94  2019-01-04 22:53:00              1              1             1   \n",
       "501 2018-09-10 01:28:00              1              1             1   \n",
       "457 2019-01-20 03:02:00              1              1             1   \n",
       "228 2018-08-10 09:05:00              1              1             1   \n",
       "\n",
       "     4-3_activate  5-4_activate  6-5_activate  7-6_activate  8-7_activate  \\\n",
       "294             1             1             1             1             1   \n",
       "94              1             1             1             1             1   \n",
       "501             1             1             1             1             1   \n",
       "457             1             1             1             1             1   \n",
       "228             1             1             1             1             1   \n",
       "\n",
       "     9-8_activate  ...  138-158_activate  173-159_activate  172-160_activate  \\\n",
       "294             1  ...                 1                 1                 1   \n",
       "94              1  ...                 1                 1                 1   \n",
       "501             1  ...                 1                 1                 1   \n",
       "457             1  ...                 1                 1                 1   \n",
       "228             1  ...                 1                 1                 1   \n",
       "\n",
       "     132-161_activate  133-162_activate  134-163_activate  136-164_activate  \\\n",
       "294                 1                 1                 1                 1   \n",
       "94                  1                 1                 1                 1   \n",
       "501                 1                 1                 1                 1   \n",
       "457                 1                 1                 1                 1   \n",
       "228                 1                 1                 1                 1   \n",
       "\n",
       "     135-165_activate  174-166_activate  175-167_activate  \n",
       "294                 1                 1                 1  \n",
       "94                  1                 1                 1  \n",
       "501                 1                 1                 1  \n",
       "457                 1                 1                 1  \n",
       "228                 1                 1                 1  \n",
       "\n",
       "[5 rows x 173 columns]"
      ]
     },
     "execution_count": 6,
     "metadata": {},
     "output_type": "execute_result"
    }
   ],
   "source": [
    "df_activate.sample(5)"
   ]
  },
  {
   "cell_type": "code",
   "execution_count": 7,
   "metadata": {},
   "outputs": [],
   "source": [
    "### Is there any station desactivated at anytime?"
   ]
  },
  {
   "cell_type": "code",
   "execution_count": 8,
   "metadata": {},
   "outputs": [
    {
     "data": {
      "text/plain": [
       "(4422, 0)"
      ]
     },
     "execution_count": 8,
     "metadata": {},
     "output_type": "execute_result"
    }
   ],
   "source": [
    "df_activate[df_activate == 0].dropna(axis=1, how='all').shape"
   ]
  },
  {
   "cell_type": "code",
   "execution_count": 9,
   "metadata": {},
   "outputs": [],
   "source": [
    "#All station have been activated"
   ]
  },
  {
   "cell_type": "code",
   "execution_count": null,
   "metadata": {},
   "outputs": [],
   "source": []
  }
 ],
 "metadata": {
  "kernelspec": {
   "display_name": "Python 3",
   "language": "python",
   "name": "python3"
  },
  "language_info": {
   "codemirror_mode": {
    "name": "ipython",
    "version": 3
   },
   "file_extension": ".py",
   "mimetype": "text/x-python",
   "name": "python",
   "nbconvert_exporter": "python",
   "pygments_lexer": "ipython3",
   "version": "3.6.8"
  }
 },
 "nbformat": 4,
 "nbformat_minor": 2
}
