{
 "cells": [
  {
   "cell_type": "markdown",
   "metadata": {},
   "source": [
    "# Model\n",
    "\n",
    "The puspose of this notebook is to create a model and all the features that can help to improve the accuracy of such model.\n",
    "\n",
    "It is been decided to use a Gradient Boosting due to the good results it gives\n",
    "\n",
    "The approach we are following is to apply the feature engineering and the hyperparametrization to one postal code.\n",
    "The way to do this is making a pipe that will work for every postal code.\n",
    "\n",
    "We will start with the first postal code of the data set: 28013\n",
    "\n",
    "And we will follow the following points:\n",
    "\n",
    "1. Create the dataframe\n",
    "2. Times feature engineering\n",
    "3. Lag Variables\n",
    "4. Weather feature engineering\n",
    "5. Model\n",
    "6. Metrics\n",
    "\n",
    "*NOTE: Kindly note that this notebook has been \"cleaned up\" and all the code has been organized for your easy understanding.*"
   ]
  },
  {
   "cell_type": "markdown",
   "metadata": {},
   "source": [
    "## 1. Create the dataframe"
   ]
  },
  {
   "cell_type": "code",
   "execution_count": 3,
   "metadata": {},
   "outputs": [],
   "source": [
    "#Import libraries\n",
    "import pandas as pd\n",
    "import os\n",
    "pd.set_option('display.max_columns', None)"
   ]
  },
  {
   "cell_type": "code",
   "execution_count": null,
   "metadata": {},
   "outputs": [],
   "source": [
    "#Get the preprocessig_v2.py data path\n",
    "cwd = os.getcwd()\n",
    "cwd_list = cwd.split(os.sep)\n",
    "preprocessing_path = os.path.join(os.sep.join(cwd_list[:-1]), '01-Preprocessing_Data')\n",
    "preprocessing_path"
   ]
  },
  {
   "cell_type": "code",
   "execution_count": 1,
   "metadata": {},
   "outputs": [],
   "source": [
    "postal_code = '28013'"
   ]
  },
  {
   "cell_type": "code",
   "execution_count": null,
   "metadata": {},
   "outputs": [],
   "source": []
  }
 ],
 "metadata": {
  "kernelspec": {
   "display_name": "Python 3",
   "language": "python",
   "name": "python3"
  },
  "language_info": {
   "codemirror_mode": {
    "name": "ipython",
    "version": 3
   },
   "file_extension": ".py",
   "mimetype": "text/x-python",
   "name": "python",
   "nbconvert_exporter": "python",
   "pygments_lexer": "ipython3",
   "version": "3.6.8"
  }
 },
 "nbformat": 4,
 "nbformat_minor": 2
}
